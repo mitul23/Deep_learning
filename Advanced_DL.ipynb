{
 "cells": [
  {
   "cell_type": "markdown",
   "metadata": {
    "toc": true
   },
   "source": [
    "<h1>Table of Contents<span class=\"tocSkip\"></span></h1>\n",
    "<div class=\"toc\"><ul class=\"toc-item\"><li><span><a href=\"#The-keras-functional-API\" data-toc-modified-id=\"The-keras-functional-API-1\"><span class=\"toc-item-num\">1&nbsp;&nbsp;</span>The keras functional API</a></span></li><li><span><a href=\"#Two-input-network-using-categorial-Embeddings,-shared-Layers-and-Merge-layers\" data-toc-modified-id=\"Two-input-network-using-categorial-Embeddings,-shared-Layers-and-Merge-layers-2\"><span class=\"toc-item-num\">2&nbsp;&nbsp;</span>Two input network using categorial Embeddings, shared Layers and Merge layers</a></span></li><li><span><a href=\"#Multiple-Inputs\" data-toc-modified-id=\"Multiple-Inputs-3\"><span class=\"toc-item-num\">3&nbsp;&nbsp;</span>Multiple Inputs</a></span></li><li><span><a href=\"#Multiple-Outputs\" data-toc-modified-id=\"Multiple-Outputs-4\"><span class=\"toc-item-num\">4&nbsp;&nbsp;</span>Multiple Outputs</a></span></li></ul></div>"
   ]
  },
  {
   "cell_type": "code",
   "execution_count": 10,
   "metadata": {},
   "outputs": [],
   "source": [
    "import pandas as pd\n",
    "from  matplotlib import pyplot as plt\n",
    "%matplotlib inline"
   ]
  },
  {
   "cell_type": "code",
   "execution_count": 11,
   "metadata": {},
   "outputs": [],
   "source": [
    "df1 = pd.read_csv('basketball_data/games_season.csv')\n",
    "df2 = pd.read_csv('basketball_data/games_tourney.csv')"
   ]
  },
  {
   "cell_type": "code",
   "execution_count": 12,
   "metadata": {
    "cell_style": "split"
   },
   "outputs": [
    {
     "data": {
      "text/html": [
       "<div>\n",
       "<style scoped>\n",
       "    .dataframe tbody tr th:only-of-type {\n",
       "        vertical-align: middle;\n",
       "    }\n",
       "\n",
       "    .dataframe tbody tr th {\n",
       "        vertical-align: top;\n",
       "    }\n",
       "\n",
       "    .dataframe thead th {\n",
       "        text-align: right;\n",
       "    }\n",
       "</style>\n",
       "<table border=\"1\" class=\"dataframe\">\n",
       "  <thead>\n",
       "    <tr style=\"text-align: right;\">\n",
       "      <th></th>\n",
       "      <th>season</th>\n",
       "      <th>team_1</th>\n",
       "      <th>team_2</th>\n",
       "      <th>home</th>\n",
       "      <th>score_diff</th>\n",
       "      <th>score_1</th>\n",
       "      <th>score_2</th>\n",
       "      <th>won</th>\n",
       "    </tr>\n",
       "  </thead>\n",
       "  <tbody>\n",
       "    <tr>\n",
       "      <th>0</th>\n",
       "      <td>1985</td>\n",
       "      <td>3745</td>\n",
       "      <td>6664</td>\n",
       "      <td>0</td>\n",
       "      <td>17</td>\n",
       "      <td>81</td>\n",
       "      <td>64</td>\n",
       "      <td>1</td>\n",
       "    </tr>\n",
       "    <tr>\n",
       "      <th>1</th>\n",
       "      <td>1985</td>\n",
       "      <td>126</td>\n",
       "      <td>7493</td>\n",
       "      <td>1</td>\n",
       "      <td>7</td>\n",
       "      <td>77</td>\n",
       "      <td>70</td>\n",
       "      <td>1</td>\n",
       "    </tr>\n",
       "    <tr>\n",
       "      <th>2</th>\n",
       "      <td>1985</td>\n",
       "      <td>288</td>\n",
       "      <td>3593</td>\n",
       "      <td>1</td>\n",
       "      <td>7</td>\n",
       "      <td>63</td>\n",
       "      <td>56</td>\n",
       "      <td>1</td>\n",
       "    </tr>\n",
       "    <tr>\n",
       "      <th>3</th>\n",
       "      <td>1985</td>\n",
       "      <td>1846</td>\n",
       "      <td>9881</td>\n",
       "      <td>1</td>\n",
       "      <td>16</td>\n",
       "      <td>70</td>\n",
       "      <td>54</td>\n",
       "      <td>1</td>\n",
       "    </tr>\n",
       "    <tr>\n",
       "      <th>4</th>\n",
       "      <td>1985</td>\n",
       "      <td>2675</td>\n",
       "      <td>10298</td>\n",
       "      <td>1</td>\n",
       "      <td>12</td>\n",
       "      <td>86</td>\n",
       "      <td>74</td>\n",
       "      <td>1</td>\n",
       "    </tr>\n",
       "  </tbody>\n",
       "</table>\n",
       "</div>"
      ],
      "text/plain": [
       "   season  team_1  team_2  home  score_diff  score_1  score_2  won\n",
       "0    1985    3745    6664     0          17       81       64    1\n",
       "1    1985     126    7493     1           7       77       70    1\n",
       "2    1985     288    3593     1           7       63       56    1\n",
       "3    1985    1846    9881     1          16       70       54    1\n",
       "4    1985    2675   10298     1          12       86       74    1"
      ]
     },
     "execution_count": 12,
     "metadata": {},
     "output_type": "execute_result"
    }
   ],
   "source": [
    "df1.head()"
   ]
  },
  {
   "cell_type": "code",
   "execution_count": 13,
   "metadata": {
    "cell_style": "split"
   },
   "outputs": [
    {
     "data": {
      "text/html": [
       "<div>\n",
       "<style scoped>\n",
       "    .dataframe tbody tr th:only-of-type {\n",
       "        vertical-align: middle;\n",
       "    }\n",
       "\n",
       "    .dataframe tbody tr th {\n",
       "        vertical-align: top;\n",
       "    }\n",
       "\n",
       "    .dataframe thead th {\n",
       "        text-align: right;\n",
       "    }\n",
       "</style>\n",
       "<table border=\"1\" class=\"dataframe\">\n",
       "  <thead>\n",
       "    <tr style=\"text-align: right;\">\n",
       "      <th></th>\n",
       "      <th>season</th>\n",
       "      <th>team_1</th>\n",
       "      <th>team_2</th>\n",
       "      <th>home</th>\n",
       "      <th>seed_diff</th>\n",
       "      <th>score_diff</th>\n",
       "      <th>score_1</th>\n",
       "      <th>score_2</th>\n",
       "      <th>won</th>\n",
       "    </tr>\n",
       "  </thead>\n",
       "  <tbody>\n",
       "    <tr>\n",
       "      <th>0</th>\n",
       "      <td>1985</td>\n",
       "      <td>288</td>\n",
       "      <td>73</td>\n",
       "      <td>0</td>\n",
       "      <td>-3</td>\n",
       "      <td>-9</td>\n",
       "      <td>41</td>\n",
       "      <td>50</td>\n",
       "      <td>0</td>\n",
       "    </tr>\n",
       "    <tr>\n",
       "      <th>1</th>\n",
       "      <td>1985</td>\n",
       "      <td>5929</td>\n",
       "      <td>73</td>\n",
       "      <td>0</td>\n",
       "      <td>4</td>\n",
       "      <td>6</td>\n",
       "      <td>61</td>\n",
       "      <td>55</td>\n",
       "      <td>1</td>\n",
       "    </tr>\n",
       "    <tr>\n",
       "      <th>2</th>\n",
       "      <td>1985</td>\n",
       "      <td>9884</td>\n",
       "      <td>73</td>\n",
       "      <td>0</td>\n",
       "      <td>5</td>\n",
       "      <td>-4</td>\n",
       "      <td>59</td>\n",
       "      <td>63</td>\n",
       "      <td>0</td>\n",
       "    </tr>\n",
       "    <tr>\n",
       "      <th>3</th>\n",
       "      <td>1985</td>\n",
       "      <td>73</td>\n",
       "      <td>288</td>\n",
       "      <td>0</td>\n",
       "      <td>3</td>\n",
       "      <td>9</td>\n",
       "      <td>50</td>\n",
       "      <td>41</td>\n",
       "      <td>1</td>\n",
       "    </tr>\n",
       "    <tr>\n",
       "      <th>4</th>\n",
       "      <td>1985</td>\n",
       "      <td>3920</td>\n",
       "      <td>410</td>\n",
       "      <td>0</td>\n",
       "      <td>1</td>\n",
       "      <td>-9</td>\n",
       "      <td>54</td>\n",
       "      <td>63</td>\n",
       "      <td>0</td>\n",
       "    </tr>\n",
       "  </tbody>\n",
       "</table>\n",
       "</div>"
      ],
      "text/plain": [
       "   season  team_1  team_2  home  seed_diff  score_diff  score_1  score_2  won\n",
       "0    1985     288      73     0         -3          -9       41       50    0\n",
       "1    1985    5929      73     0          4           6       61       55    1\n",
       "2    1985    9884      73     0          5          -4       59       63    0\n",
       "3    1985      73     288     0          3           9       50       41    1\n",
       "4    1985    3920     410     0          1          -9       54       63    0"
      ]
     },
     "execution_count": 13,
     "metadata": {},
     "output_type": "execute_result"
    }
   ],
   "source": [
    "df2.head()"
   ]
  },
  {
   "cell_type": "code",
   "execution_count": 14,
   "metadata": {},
   "outputs": [],
   "source": [
    "#import qgrid\n",
    "#qgrid_widget = qgrid.show_grid(df1[:10],show_toolbar=True)\n",
    "#qgrid_widget\n",
    "#qgrid_widget.get_changed_df()"
   ]
  },
  {
   "cell_type": "markdown",
   "metadata": {
    "heading_collapsed": true
   },
   "source": [
    "#  The keras functional API"
   ]
  },
  {
   "cell_type": "markdown",
   "metadata": {
    "hidden": true
   },
   "source": [
    "* learn basics of keras functional API\n",
    "* create a network -> fit to the data -> make predictions"
   ]
  },
  {
   "cell_type": "code",
   "execution_count": 15,
   "metadata": {
    "cell_style": "split",
    "hidden": true
   },
   "outputs": [
    {
     "data": {
      "text/plain": [
       "Text(0.5,1,'Histogram of Score Differences')"
      ]
     },
     "execution_count": 15,
     "metadata": {},
     "output_type": "execute_result"
    },
    {
     "data": {
      "image/png": "[encoded data removed]",
      "text/plain": [
       "<matplotlib.figure.Figure at 0x112ccbf60>"
      ]
     },
     "metadata": {},
     "output_type": "display_data"
    }
   ],
   "source": [
    "df1['score_diff'].hist()\n",
    "plt.xlabel('Counts')\n",
    "plt.ylabel('Score Differences')\n",
    "plt.title('Histogram of Score Differences')"
   ]
  },
  {
   "cell_type": "code",
   "execution_count": 16,
   "metadata": {
    "cell_style": "split",
    "hidden": true
   },
   "outputs": [
    {
     "data": {
      "text/plain": [
       "Text(0.5,1,'Histogram of Seed Differences')"
      ]
     },
     "execution_count": 16,
     "metadata": {},
     "output_type": "execute_result"
    },
    {
     "data": {
      "image/png": "[encoded data removed]",
      "text/plain": [
       "<matplotlib.figure.Figure at 0x10c986320>"
      ]
     },
     "metadata": {},
     "output_type": "display_data"
    }
   ],
   "source": [
    "df2['seed_diff'].hist()\n",
    "plt.xlabel('Counts')\n",
    "plt.ylabel('Seed Differences')\n",
    "plt.title('Histogram of Seed Differences')"
   ]
  },
  {
   "cell_type": "code",
   "execution_count": 17,
   "metadata": {
    "hidden": true
   },
   "outputs": [
    {
     "name": "stderr",
     "output_type": "stream",
     "text": [
      "/Users/Mitul/anaconda3/lib/python3.6/site-packages/h5py/__init__.py:36: FutureWarning: Conversion of the second argument of issubdtype from `float` to `np.floating` is deprecated. In future, it will be treated as `np.float64 == np.dtype(float).type`.\n",
      "  from ._conv import register_converters as _register_converters\n",
      "Using TensorFlow backend.\n"
     ]
    },
    {
     "name": "stdout",
     "output_type": "stream",
     "text": [
      "_________________________________________________________________\n",
      "Layer (type)                 Output Shape              Param #   \n",
      "=================================================================\n",
      "input_1 (InputLayer)         (None, 1)                 0         \n",
      "_________________________________________________________________\n",
      "dense_1 (Dense)              (None, 1)                 2         \n",
      "=================================================================\n",
      "Total params: 2\n",
      "Trainable params: 2\n",
      "Non-trainable params: 0\n",
      "_________________________________________________________________\n",
      "Model summary:  None\n",
      "Train on 3420 samples, validate on 380 samples\n",
      "Epoch 1/1\n",
      "3420/3420 [==============================] - 0s 127us/step - loss: 13.9746 - val_loss: 12.5808\n"
     ]
    },
    {
     "data": {
      "text/plain": [
       "<keras.callbacks.History at 0x182eb2e048>"
      ]
     },
     "execution_count": 17,
     "metadata": {},
     "output_type": "execute_result"
    }
   ],
   "source": [
    "# simple one-input network \n",
    "from keras.layers import Input, Dense\n",
    "from keras.models import Model \n",
    "from keras.utils import plot_model \n",
    "\n",
    "#network artifact\n",
    "input_tensor = Input(shape=(1,)) #input \n",
    "#output_layer = Dense(1) #dense layer\n",
    "#output_tensor = output_layer(input_tensor) #connect dense layer to input tensor\n",
    "# above 2 lines combined into one: \n",
    "output_tensor = Dense(1)(input_tensor)\n",
    "model = Model(input_tensor,output_tensor)\n",
    "\n",
    "#compile\n",
    "model.compile(optimizer='adam',loss='mean_absolute_error')\n",
    "print('Model summary: ',model.summary())\n",
    "\n",
    "#plot model\n",
    "#plot_model(model,to_file='model.png')\n",
    "#display image\n",
    "#data = plt.imread('model.png')\n",
    "#plt.imshow(data)\n",
    "\n",
    "#fit the model\n",
    "X_train = df2[:3800]\n",
    "y_train = df2[:3800]\n",
    "model.fit(X_train['seed_diff'],y_train['score_diff'],\n",
    "         epochs=1, batch_size=128, validation_split=0.1,verbose=True)"
   ]
  },
  {
   "cell_type": "code",
   "execution_count": 18,
   "metadata": {
    "hidden": true
   },
   "outputs": [
    {
     "name": "stdout",
     "output_type": "stream",
     "text": [
      "434/434 [==============================] - 0s 35us/step\n"
     ]
    },
    {
     "data": {
      "text/plain": [
       "13.599331464635611"
      ]
     },
     "execution_count": 18,
     "metadata": {},
     "output_type": "execute_result"
    }
   ],
   "source": [
    "#model evaluate\n",
    "X_test = df2[3800:]\n",
    "y_test = df2[3800:]\n",
    "model.evaluate(X_test['seed_diff'],y_test['score_diff'])"
   ]
  },
  {
   "cell_type": "markdown",
   "metadata": {
    "heading_collapsed": true
   },
   "source": [
    "# Two input network using categorial Embeddings, shared Layers and Merge layers"
   ]
  },
  {
   "cell_type": "markdown",
   "metadata": {
    "hidden": true
   },
   "source": [
    "* create 2 input network \n",
    "* dealing with categorial embeddings \n",
    "* learn about shared layers and merge layers to join multiple inputs to a single output"
   ]
  },
  {
   "cell_type": "code",
   "execution_count": 19,
   "metadata": {
    "hidden": true
   },
   "outputs": [
    {
     "data": {
      "text/html": [
       "<div>\n",
       "<style scoped>\n",
       "    .dataframe tbody tr th:only-of-type {\n",
       "        vertical-align: middle;\n",
       "    }\n",
       "\n",
       "    .dataframe tbody tr th {\n",
       "        vertical-align: top;\n",
       "    }\n",
       "\n",
       "    .dataframe thead th {\n",
       "        text-align: right;\n",
       "    }\n",
       "</style>\n",
       "<table border=\"1\" class=\"dataframe\">\n",
       "  <thead>\n",
       "    <tr style=\"text-align: right;\">\n",
       "      <th></th>\n",
       "      <th>season</th>\n",
       "      <th>team_1</th>\n",
       "      <th>team_2</th>\n",
       "      <th>home</th>\n",
       "      <th>score_diff</th>\n",
       "      <th>score_1</th>\n",
       "      <th>score_2</th>\n",
       "      <th>won</th>\n",
       "    </tr>\n",
       "  </thead>\n",
       "  <tbody>\n",
       "    <tr>\n",
       "      <th>0</th>\n",
       "      <td>1985</td>\n",
       "      <td>3745</td>\n",
       "      <td>6664</td>\n",
       "      <td>0</td>\n",
       "      <td>17</td>\n",
       "      <td>81</td>\n",
       "      <td>64</td>\n",
       "      <td>1</td>\n",
       "    </tr>\n",
       "    <tr>\n",
       "      <th>1</th>\n",
       "      <td>1985</td>\n",
       "      <td>126</td>\n",
       "      <td>7493</td>\n",
       "      <td>1</td>\n",
       "      <td>7</td>\n",
       "      <td>77</td>\n",
       "      <td>70</td>\n",
       "      <td>1</td>\n",
       "    </tr>\n",
       "    <tr>\n",
       "      <th>2</th>\n",
       "      <td>1985</td>\n",
       "      <td>288</td>\n",
       "      <td>3593</td>\n",
       "      <td>1</td>\n",
       "      <td>7</td>\n",
       "      <td>63</td>\n",
       "      <td>56</td>\n",
       "      <td>1</td>\n",
       "    </tr>\n",
       "    <tr>\n",
       "      <th>3</th>\n",
       "      <td>1985</td>\n",
       "      <td>1846</td>\n",
       "      <td>9881</td>\n",
       "      <td>1</td>\n",
       "      <td>16</td>\n",
       "      <td>70</td>\n",
       "      <td>54</td>\n",
       "      <td>1</td>\n",
       "    </tr>\n",
       "    <tr>\n",
       "      <th>4</th>\n",
       "      <td>1985</td>\n",
       "      <td>2675</td>\n",
       "      <td>10298</td>\n",
       "      <td>1</td>\n",
       "      <td>12</td>\n",
       "      <td>86</td>\n",
       "      <td>74</td>\n",
       "      <td>1</td>\n",
       "    </tr>\n",
       "  </tbody>\n",
       "</table>\n",
       "</div>"
      ],
      "text/plain": [
       "   season  team_1  team_2  home  score_diff  score_1  score_2  won\n",
       "0    1985    3745    6664     0          17       81       64    1\n",
       "1    1985     126    7493     1           7       77       70    1\n",
       "2    1985     288    3593     1           7       63       56    1\n",
       "3    1985    1846    9881     1          16       70       54    1\n",
       "4    1985    2675   10298     1          12       86       74    1"
      ]
     },
     "execution_count": 19,
     "metadata": {},
     "output_type": "execute_result"
    }
   ],
   "source": [
    "df1.head()"
   ]
  },
  {
   "cell_type": "code",
   "execution_count": 20,
   "metadata": {
    "hidden": true
   },
   "outputs": [],
   "source": [
    "from keras.layers import Embedding, Flatten\n",
    "from numpy import unique\n",
    "\n",
    "n_teams = unique(df1[['team_1','team_2']]).shape[0]\n",
    "\n",
    "#model artifact\n",
    "teamid_in = Input(shape=(1,))\n",
    "\n",
    "#embedding layer\n",
    "team_lookup = Embedding(input_dim=n_teams,output_dim=1\n",
    "                       ,input_length=1,name='Team-Strength')\n",
    "\n",
    "#look up inputs\n",
    "strength_lookup = team_lookup(teamid_in)\n",
    "\n",
    "#flatten\n",
    "strength_lookup_flat = Flatten()(strength_lookup)\n",
    "\n",
    "# Combine the operations into a single, re-usable model\n",
    "team_strength_model = Model(teamid_in, strength_lookup_flat, name='Team-Strength-Model')"
   ]
  },
  {
   "cell_type": "code",
   "execution_count": 21,
   "metadata": {
    "hidden": true
   },
   "outputs": [
    {
     "name": "stdout",
     "output_type": "stream",
     "text": [
      "Train on 280960 samples, validate on 31218 samples\n",
      "Epoch 1/1\n",
      "280960/280960 [==============================] - 1s 2us/step - loss: 12.1205 - val_loss: 11.8382\n",
      "4234/4234 [==============================] - 0s 14us/step\n"
     ]
    },
    {
     "data": {
      "text/plain": [
       "11.680415491816792"
      ]
     },
     "execution_count": 21,
     "metadata": {},
     "output_type": "execute_result"
    }
   ],
   "source": [
    "# since we have 2 teams, lets creat input layers for each\n",
    "team_in_1 = Input(shape=(1,),name='Team-1-In')\n",
    "team_in_2 = Input(shape=(1,),name='Team-2-In')\n",
    "\n",
    "#look up teams in the model\n",
    "team_1_strength = team_strength_model(team_in_1)\n",
    "team_2_strength = team_strength_model(team_in_2)\n",
    "\n",
    "#running the above 2 lines- now the model knows the strength of each team\n",
    "# Import the Subtract layer from keras\n",
    "from keras.layers import Subtract\n",
    "\n",
    "# Create a subtract layer using the inputs from the previous exercise\n",
    "score_diff = Subtract()([team_1_strength, team_2_strength])\n",
    "\n",
    "# Create the model\n",
    "model = Model([team_in_1, team_in_2], score_diff)\n",
    "\n",
    "# Compile the model\n",
    "model.compile('adam', 'mean_absolute_error')\n",
    "\n",
    "#fit the model\n",
    "# Get the team_1 column from the regular season data\n",
    "input_1 = df1['team_1']\n",
    "\n",
    "# Get the team_2 column from the regular season data\n",
    "input_2 = df1['team_2']\n",
    "\n",
    "# Fit the model to input 1 and 2, using score diff as a target\n",
    "model.fit([input_1,input_2],df1['score_diff'],\n",
    "          epochs=1,\n",
    "          batch_size=2048,\n",
    "          validation_split=0.1,\n",
    "          verbose=True)\n",
    "\n",
    "#Evaluate the model on the tournament test data\n",
    "# Get team_1 from the tournament data\n",
    "input_1 = df2['team_1']\n",
    "\n",
    "# Get team_2 from the tournament data\n",
    "input_2 = df2['team_2']\n",
    "\n",
    "# Evaluate the model using these inputs\n",
    "model.evaluate([input_1, input_2], df2['score_diff'])"
   ]
  },
  {
   "cell_type": "markdown",
   "metadata": {
    "heading_collapsed": true
   },
   "source": [
    "# Multiple Inputs "
   ]
  },
  {
   "cell_type": "markdown",
   "metadata": {
    "hidden": true
   },
   "source": [
    "* 3 or more inputs\n",
    "* understand keras summary, plot functions to understand parameters of the model and topology of the network."
   ]
  },
  {
   "cell_type": "code",
   "execution_count": 26,
   "metadata": {
    "hidden": true
   },
   "outputs": [
    {
     "name": "stdout",
     "output_type": "stream",
     "text": [
      "_________________________________________________________________\n",
      "Layer (type)                 Output Shape              Param #   \n",
      "=================================================================\n",
      "input_2 (InputLayer)         (None, 1)                 0         \n",
      "_________________________________________________________________\n",
      "Team-Strength (Embedding)    (None, 1, 1)              10888     \n",
      "_________________________________________________________________\n",
      "flatten_1 (Flatten)          (None, 1)                 0         \n",
      "=================================================================\n",
      "Total params: 10,888\n",
      "Trainable params: 10,888\n",
      "Non-trainable params: 0\n",
      "_________________________________________________________________\n"
     ]
    }
   ],
   "source": [
    "team_strength_model.summary()"
   ]
  },
  {
   "cell_type": "code",
   "execution_count": 29,
   "metadata": {
    "hidden": true
   },
   "outputs": [
    {
     "name": "stdout",
     "output_type": "stream",
     "text": [
      "Train on 280960 samples, validate on 31218 samples\n",
      "Epoch 1/1\n",
      "280960/280960 [==============================] - 1s 3us/step - loss: 11.9970 - val_loss: 12.4761\n",
      "4234/4234 [==============================] - 0s 18us/step\n"
     ]
    },
    {
     "data": {
      "text/plain": [
       "11.688425564574475"
      ]
     },
     "execution_count": 29,
     "metadata": {},
     "output_type": "execute_result"
    }
   ],
   "source": [
    "from keras.layers import Concatenate\n",
    "\n",
    "# Create an Input for each team\n",
    "team_in_1 = Input(shape=(1,), name='Team-1-In')\n",
    "team_in_2 = Input(shape=(1,), name='Team-2-In')\n",
    "\n",
    "# Create an input for home vs away\n",
    "home_in = Input(shape=(1,), name='Home-In')\n",
    "\n",
    "# Lookup the team inputs in the team strength model\n",
    "team_1_strength = team_strength_model(team_in_1)\n",
    "team_2_strength = team_strength_model(team_in_2)\n",
    "\n",
    "# Combine the team strengths with the home input using a Concatenate layer, then add a Dense layer\n",
    "out = Concatenate()([team_1_strength, team_2_strength, home_in])\n",
    "out = Dense(1)(out)\n",
    "\n",
    "# Make a Model\n",
    "model = Model([team_in_1, team_in_2, home_in], out)\n",
    "\n",
    "# Compile the model\n",
    "model.compile(optimizer='adam', loss='mean_absolute_error')\n",
    "\n",
    "# Fit the model to the games_season dataset\n",
    "model.fit([df1.team_1, df1.team_2, df1.home],\n",
    "          df1.score_diff,\n",
    "          epochs=1,\n",
    "          verbose=True,\n",
    "          validation_split=0.1,\n",
    "          batch_size=2048)\n",
    "\n",
    "# Evaluate the model on the games_tourney dataset\n",
    "model.evaluate([df2.team_1,df2.team_2 \n",
    ",df2.home], df2.score_diff)"
   ]
  },
  {
   "cell_type": "code",
   "execution_count": 30,
   "metadata": {
    "hidden": true
   },
   "outputs": [
    {
     "name": "stdout",
     "output_type": "stream",
     "text": [
      "__________________________________________________________________________________________________\n",
      "Layer (type)                    Output Shape         Param #     Connected to                     \n",
      "==================================================================================================\n",
      "Team-1-In (InputLayer)          (None, 1)            0                                            \n",
      "__________________________________________________________________________________________________\n",
      "Team-2-In (InputLayer)          (None, 1)            0                                            \n",
      "__________________________________________________________________________________________________\n",
      "Team-Strength-Model (Model)     (None, 1)            10888       Team-1-In[0][0]                  \n",
      "                                                                 Team-2-In[0][0]                  \n",
      "__________________________________________________________________________________________________\n",
      "Home-In (InputLayer)            (None, 1)            0                                            \n",
      "__________________________________________________________________________________________________\n",
      "concatenate_2 (Concatenate)     (None, 3)            0           Team-Strength-Model[7][0]        \n",
      "                                                                 Team-Strength-Model[8][0]        \n",
      "                                                                 Home-In[0][0]                    \n",
      "__________________________________________________________________________________________________\n",
      "dense_3 (Dense)                 (None, 1)            4           concatenate_2[0][0]              \n",
      "==================================================================================================\n",
      "Total params: 10,892\n",
      "Trainable params: 10,892\n",
      "Non-trainable params: 0\n",
      "__________________________________________________________________________________________________\n"
     ]
    }
   ],
   "source": [
    "model.summary()"
   ]
  },
  {
   "cell_type": "code",
   "execution_count": 32,
   "metadata": {
    "hidden": true
   },
   "outputs": [],
   "source": [
    "# Plot the model\n",
    "#plot_model(model, to_file='model.png')\n",
    "\n",
    "# Display the image\n",
    "#data = plt.imread('model.png')\n",
    "#plt.imshow(data)\n",
    "# Predict\n",
    "df2['pred'] = model.predict([df2.team_1,df2.team_2, df2.home])"
   ]
  },
  {
   "cell_type": "code",
   "execution_count": 44,
   "metadata": {
    "hidden": true
   },
   "outputs": [
    {
     "name": "stdout",
     "output_type": "stream",
     "text": [
      "Epoch 1/1\n",
      "3168/3168 [==============================] - 0s 114us/step - loss: 9.2494\n",
      "1066/1066 [==============================] - 0s 62us/step\n"
     ]
    },
    {
     "data": {
      "text/plain": [
       "9.078073226041239"
      ]
     },
     "execution_count": 44,
     "metadata": {},
     "output_type": "execute_result"
    }
   ],
   "source": [
    "# alternate method to create models only for purely numeric data\n",
    "# Create an input layer with 3 columns\n",
    "input_tensor = Input((3,))\n",
    "\n",
    "# Pass it to a Dense layer with 1 unit\n",
    "output_tensor = Dense(1)(input_tensor)\n",
    "\n",
    "# Create a model\n",
    "model = Model(input_tensor, output_tensor)\n",
    "\n",
    "# Compile the model\n",
    "model.compile(optimizer='adam', loss='mean_absolute_error')\n",
    "\n",
    "X_train = df2[:3168]\n",
    "y_train = df2[:3168]\n",
    "X_test = df2[3168:]\n",
    "y_test = df2[3168:]\n",
    "\n",
    "# Fit the model\n",
    "model.fit(X_train[['home', 'seed_diff', 'pred']],\n",
    "          y_train['score_diff'],\n",
    "          epochs=1,\n",
    "          verbose=True)\n",
    "\n",
    "# Evaluate the model on the games_tourney_test dataset\n",
    "model.evaluate(X_test[['home','seed_diff','pred']], \n",
    "               y_test['score_diff'])"
   ]
  },
  {
   "cell_type": "code",
   "execution_count": 42,
   "metadata": {
    "hidden": true
   },
   "outputs": [
    {
     "data": {
      "text/plain": [
       "(4234, 10)"
      ]
     },
     "execution_count": 42,
     "metadata": {},
     "output_type": "execute_result"
    }
   ],
   "source": [
    "df2.shape"
   ]
  },
  {
   "cell_type": "markdown",
   "metadata": {},
   "source": [
    "# Multiple Outputs"
   ]
  },
  {
   "cell_type": "markdown",
   "metadata": {},
   "source": [
    "* 3 or more outputs\n",
    "* solve regression problem with multiple targets\n",
    "* solve classification problem simultaneously"
   ]
  },
  {
   "cell_type": "code",
   "execution_count": 46,
   "metadata": {},
   "outputs": [
    {
     "name": "stdout",
     "output_type": "stream",
     "text": [
      "Epoch 1/100\n",
      "3168/3168 [==============================] - 0s 84us/step - loss: 71.9904\n",
      "Epoch 2/100\n",
      "3168/3168 [==============================] - 0s 1us/step - loss: 71.9892\n",
      "Epoch 3/100\n",
      "3168/3168 [==============================] - 0s 1us/step - loss: 71.9879\n",
      "Epoch 4/100\n",
      "3168/3168 [==============================] - 0s 2us/step - loss: 71.9867\n",
      "Epoch 5/100\n",
      "3168/3168 [==============================] - 0s 1us/step - loss: 71.9855\n",
      "Epoch 6/100\n",
      "3168/3168 [==============================] - 0s 1us/step - loss: 71.9842\n",
      "Epoch 7/100\n",
      "3168/3168 [==============================] - 0s 2us/step - loss: 71.9830\n",
      "Epoch 8/100\n",
      "3168/3168 [==============================] - 0s 1us/step - loss: 71.9818\n",
      "Epoch 9/100\n",
      "3168/3168 [==============================] - 0s 1us/step - loss: 71.9806\n",
      "Epoch 10/100\n",
      "3168/3168 [==============================] - 0s 2us/step - loss: 71.9793\n",
      "Epoch 11/100\n",
      "3168/3168 [==============================] - 0s 2us/step - loss: 71.9781\n",
      "Epoch 12/100\n",
      "3168/3168 [==============================] - 0s 1us/step - loss: 71.9769\n",
      "Epoch 13/100\n",
      "3168/3168 [==============================] - 0s 2us/step - loss: 71.9756\n",
      "Epoch 14/100\n",
      "3168/3168 [==============================] - 0s 1us/step - loss: 71.9744\n",
      "Epoch 15/100\n",
      "3168/3168 [==============================] - 0s 1us/step - loss: 71.9732\n",
      "Epoch 16/100\n",
      "3168/3168 [==============================] - 0s 2us/step - loss: 71.9720\n",
      "Epoch 17/100\n",
      "3168/3168 [==============================] - 0s 1us/step - loss: 71.9707\n",
      "Epoch 18/100\n",
      "3168/3168 [==============================] - 0s 1us/step - loss: 71.9695\n",
      "Epoch 19/100\n",
      "3168/3168 [==============================] - 0s 2us/step - loss: 71.9683\n",
      "Epoch 20/100\n",
      "3168/3168 [==============================] - 0s 2us/step - loss: 71.9670\n",
      "Epoch 21/100\n",
      "3168/3168 [==============================] - 0s 2us/step - loss: 71.9658\n",
      "Epoch 22/100\n",
      "3168/3168 [==============================] - 0s 1us/step - loss: 71.9646\n",
      "Epoch 23/100\n",
      "3168/3168 [==============================] - 0s 2us/step - loss: 71.9633\n",
      "Epoch 24/100\n",
      "3168/3168 [==============================] - 0s 1us/step - loss: 71.9621\n",
      "Epoch 25/100\n",
      "3168/3168 [==============================] - 0s 1us/step - loss: 71.9609\n",
      "Epoch 26/100\n",
      "3168/3168 [==============================] - 0s 1us/step - loss: 71.9596\n",
      "Epoch 27/100\n",
      "3168/3168 [==============================] - 0s 1us/step - loss: 71.9584\n",
      "Epoch 28/100\n",
      "3168/3168 [==============================] - 0s 1us/step - loss: 71.9572\n",
      "Epoch 29/100\n",
      "3168/3168 [==============================] - 0s 1us/step - loss: 71.9559\n",
      "Epoch 30/100\n",
      "3168/3168 [==============================] - 0s 1us/step - loss: 71.9547\n",
      "Epoch 31/100\n",
      "3168/3168 [==============================] - 0s 1us/step - loss: 71.9535\n",
      "Epoch 32/100\n",
      "3168/3168 [==============================] - 0s 2us/step - loss: 71.9523\n",
      "Epoch 33/100\n",
      "3168/3168 [==============================] - 0s 1us/step - loss: 71.9510\n",
      "Epoch 34/100\n",
      "3168/3168 [==============================] - 0s 1us/step - loss: 71.9498\n",
      "Epoch 35/100\n",
      "3168/3168 [==============================] - 0s 1us/step - loss: 71.9485\n",
      "Epoch 36/100\n",
      "3168/3168 [==============================] - 0s 2us/step - loss: 71.9473\n",
      "Epoch 37/100\n",
      "3168/3168 [==============================] - 0s 1us/step - loss: 71.9461\n",
      "Epoch 38/100\n",
      "3168/3168 [==============================] - 0s 2us/step - loss: 71.9449\n",
      "Epoch 39/100\n",
      "3168/3168 [==============================] - 0s 1us/step - loss: 71.9436\n",
      "Epoch 40/100\n",
      "3168/3168 [==============================] - 0s 1us/step - loss: 71.9424\n",
      "Epoch 41/100\n",
      "3168/3168 [==============================] - 0s 2us/step - loss: 71.9412\n",
      "Epoch 42/100\n",
      "3168/3168 [==============================] - 0s 1us/step - loss: 71.9399\n",
      "Epoch 43/100\n",
      "3168/3168 [==============================] - 0s 1us/step - loss: 71.9387\n",
      "Epoch 44/100\n",
      "3168/3168 [==============================] - 0s 2us/step - loss: 71.9375\n",
      "Epoch 45/100\n",
      "3168/3168 [==============================] - 0s 1us/step - loss: 71.9362\n",
      "Epoch 46/100\n",
      "3168/3168 [==============================] - 0s 2us/step - loss: 71.9350\n",
      "Epoch 47/100\n",
      "3168/3168 [==============================] - 0s 1us/step - loss: 71.9338\n",
      "Epoch 48/100\n",
      "3168/3168 [==============================] - 0s 2us/step - loss: 71.9326\n",
      "Epoch 49/100\n",
      "3168/3168 [==============================] - 0s 2us/step - loss: 71.9313\n",
      "Epoch 50/100\n",
      "3168/3168 [==============================] - 0s 1us/step - loss: 71.9301\n",
      "Epoch 51/100\n",
      "3168/3168 [==============================] - 0s 1us/step - loss: 71.9288\n",
      "Epoch 52/100\n",
      "3168/3168 [==============================] - 0s 2us/step - loss: 71.9276\n",
      "Epoch 53/100\n",
      "3168/3168 [==============================] - 0s 2us/step - loss: 71.9264\n",
      "Epoch 54/100\n",
      "3168/3168 [==============================] - 0s 2us/step - loss: 71.9252\n",
      "Epoch 55/100\n",
      "3168/3168 [==============================] - 0s 1us/step - loss: 71.9239\n",
      "Epoch 56/100\n",
      "3168/3168 [==============================] - 0s 2us/step - loss: 71.9227\n",
      "Epoch 57/100\n",
      "3168/3168 [==============================] - 0s 1us/step - loss: 71.9214\n",
      "Epoch 58/100\n",
      "3168/3168 [==============================] - 0s 1us/step - loss: 71.9202\n",
      "Epoch 59/100\n",
      "3168/3168 [==============================] - 0s 2us/step - loss: 71.9190\n",
      "Epoch 60/100\n",
      "3168/3168 [==============================] - 0s 1us/step - loss: 71.9178\n",
      "Epoch 61/100\n",
      "3168/3168 [==============================] - 0s 1us/step - loss: 71.9165\n",
      "Epoch 62/100\n",
      "3168/3168 [==============================] - 0s 2us/step - loss: 71.9153\n",
      "Epoch 63/100\n",
      "3168/3168 [==============================] - 0s 2us/step - loss: 71.9141\n",
      "Epoch 64/100\n",
      "3168/3168 [==============================] - 0s 2us/step - loss: 71.9128\n",
      "Epoch 65/100\n",
      "3168/3168 [==============================] - 0s 2us/step - loss: 71.9116\n",
      "Epoch 66/100\n",
      "3168/3168 [==============================] - 0s 1us/step - loss: 71.9104\n",
      "Epoch 67/100\n",
      "3168/3168 [==============================] - 0s 2us/step - loss: 71.9092\n",
      "Epoch 68/100\n",
      "3168/3168 [==============================] - 0s 1us/step - loss: 71.9079\n",
      "Epoch 69/100\n",
      "3168/3168 [==============================] - 0s 2us/step - loss: 71.9067\n",
      "Epoch 70/100\n",
      "3168/3168 [==============================] - 0s 2us/step - loss: 71.9055\n",
      "Epoch 71/100\n",
      "3168/3168 [==============================] - 0s 2us/step - loss: 71.9042\n",
      "Epoch 72/100\n",
      "3168/3168 [==============================] - 0s 2us/step - loss: 71.9030\n",
      "Epoch 73/100\n",
      "3168/3168 [==============================] - 0s 1us/step - loss: 71.9018\n",
      "Epoch 74/100\n",
      "3168/3168 [==============================] - 0s 2us/step - loss: 71.9005\n",
      "Epoch 75/100\n",
      "3168/3168 [==============================] - 0s 1us/step - loss: 71.8993\n",
      "Epoch 76/100\n",
      "3168/3168 [==============================] - 0s 1us/step - loss: 71.8981\n",
      "Epoch 77/100\n",
      "3168/3168 [==============================] - 0s 2us/step - loss: 71.8969\n",
      "Epoch 78/100\n",
      "3168/3168 [==============================] - 0s 2us/step - loss: 71.8956\n",
      "Epoch 79/100\n",
      "3168/3168 [==============================] - 0s 2us/step - loss: 71.8944\n",
      "Epoch 80/100\n",
      "3168/3168 [==============================] - 0s 1us/step - loss: 71.8932\n",
      "Epoch 81/100\n",
      "3168/3168 [==============================] - 0s 1us/step - loss: 71.8919\n",
      "Epoch 82/100\n",
      "3168/3168 [==============================] - 0s 2us/step - loss: 71.8907\n",
      "Epoch 83/100\n",
      "3168/3168 [==============================] - 0s 1us/step - loss: 71.8895\n",
      "Epoch 84/100\n",
      "3168/3168 [==============================] - 0s 1us/step - loss: 71.8883\n",
      "Epoch 85/100\n",
      "3168/3168 [==============================] - 0s 2us/step - loss: 71.8870\n",
      "Epoch 86/100\n",
      "3168/3168 [==============================] - 0s 1us/step - loss: 71.8858\n",
      "Epoch 87/100\n",
      "3168/3168 [==============================] - 0s 2us/step - loss: 71.8846\n",
      "Epoch 88/100\n",
      "3168/3168 [==============================] - 0s 2us/step - loss: 71.8833\n",
      "Epoch 89/100\n",
      "3168/3168 [==============================] - 0s 1us/step - loss: 71.8821\n",
      "Epoch 90/100\n",
      "3168/3168 [==============================] - 0s 1us/step - loss: 71.8808\n",
      "Epoch 91/100\n",
      "3168/3168 [==============================] - 0s 1us/step - loss: 71.8796\n",
      "Epoch 92/100\n",
      "3168/3168 [==============================] - 0s 2us/step - loss: 71.8784\n",
      "Epoch 93/100\n",
      "3168/3168 [==============================] - 0s 2us/step - loss: 71.8772\n",
      "Epoch 94/100\n",
      "3168/3168 [==============================] - 0s 2us/step - loss: 71.8759\n",
      "Epoch 95/100\n",
      "3168/3168 [==============================] - 0s 1us/step - loss: 71.8747\n",
      "Epoch 96/100\n",
      "3168/3168 [==============================] - 0s 1us/step - loss: 71.8735\n"
     ]
    },
    {
     "name": "stdout",
     "output_type": "stream",
     "text": [
      "Epoch 97/100\n",
      "3168/3168 [==============================] - 0s 2us/step - loss: 71.8722\n",
      "Epoch 98/100\n",
      "3168/3168 [==============================] - 0s 2us/step - loss: 71.8710\n",
      "Epoch 99/100\n",
      "3168/3168 [==============================] - 0s 1us/step - loss: 71.8698\n",
      "Epoch 100/100\n",
      "3168/3168 [==============================] - 0s 3us/step - loss: 71.8685\n",
      "[array([[ 0.31569865,  0.14196526],\n",
      "       [-0.5557531 ,  0.07560513]], dtype=float32), array([0.10009165, 0.10009165], dtype=float32)]\n",
      "season        1997.045455\n",
      "team_1        5546.025568\n",
      "team_2        5546.025568\n",
      "home             0.000000\n",
      "seed_diff        0.000000\n",
      "score_diff       0.000000\n",
      "score_1         71.912247\n",
      "score_2         71.912247\n",
      "won              0.500000\n",
      "pred             0.229734\n",
      "dtype: float64\n",
      "1066/1066 [==============================] - 0s 113us/step\n"
     ]
    },
    {
     "data": {
      "text/plain": [
       "68.78151002923275"
      ]
     },
     "execution_count": 46,
     "metadata": {},
     "output_type": "execute_result"
    }
   ],
   "source": [
    "# Define the input\n",
    "input_tensor = Input(shape=(2,))\n",
    "\n",
    "# Define the output\n",
    "output_tensor = Dense(2)(input_tensor)\n",
    "\n",
    "# Create a model\n",
    "model = Model(input_tensor, output_tensor)\n",
    "\n",
    "# Compile the model\n",
    "model.compile('adam', 'mean_absolute_error')\n",
    "\n",
    "# Fit the model\n",
    "model.fit(X_train[['seed_diff', 'pred']],\n",
    "          y_train[['score_1', 'score_2']],\n",
    "          verbose=True,\n",
    "          epochs=100,\n",
    "          batch_size=16384)\n",
    "\n",
    "# Print the model's weights\n",
    "print(model.get_weights())\n",
    "\n",
    "# Print the column means of the training data\n",
    "print((X_train).mean())\n",
    "\n",
    "# Evaluate the model on the tournament test data\n",
    "model.evaluate(X_test[['seed_diff', 'pred']],\n",
    "y_test[['score_1', 'score_2']])"
   ]
  },
  {
   "cell_type": "code",
   "execution_count": 48,
   "metadata": {},
   "outputs": [
    {
     "name": "stdout",
     "output_type": "stream",
     "text": [
      "Epoch 1/10\n",
      "3168/3168 [==============================] - 1s 271us/step - loss: 9.9762 - dense_7_loss: 9.1687 - dense_8_loss: 0.8075\n",
      "Epoch 2/10\n",
      "3168/3168 [==============================] - 0s 2us/step - loss: 9.9644 - dense_7_loss: 9.1725 - dense_8_loss: 0.7919\n",
      "Epoch 3/10\n",
      "3168/3168 [==============================] - 0s 3us/step - loss: 9.9533 - dense_7_loss: 9.1766 - dense_8_loss: 0.7767\n",
      "Epoch 4/10\n",
      "3168/3168 [==============================] - 0s 2us/step - loss: 9.9432 - dense_7_loss: 9.1806 - dense_8_loss: 0.7626\n",
      "Epoch 5/10\n",
      "3168/3168 [==============================] - 0s 3us/step - loss: 9.9332 - dense_7_loss: 9.1829 - dense_8_loss: 0.7503\n",
      "Epoch 6/10\n",
      "3168/3168 [==============================] - 0s 5us/step - loss: 9.9234 - dense_7_loss: 9.1840 - dense_8_loss: 0.7394\n",
      "Epoch 7/10\n",
      "3168/3168 [==============================] - 0s 2us/step - loss: 9.9134 - dense_7_loss: 9.1835 - dense_8_loss: 0.7299\n",
      "Epoch 8/10\n",
      "3168/3168 [==============================] - 0s 2us/step - loss: 9.9034 - dense_7_loss: 9.1822 - dense_8_loss: 0.7212\n",
      "Epoch 9/10\n",
      "3168/3168 [==============================] - 0s 2us/step - loss: 9.8934 - dense_7_loss: 9.1802 - dense_8_loss: 0.7132\n",
      "Epoch 10/10\n",
      "3168/3168 [==============================] - 0s 2us/step - loss: 9.8833 - dense_7_loss: 9.1776 - dense_8_loss: 0.7056\n",
      "[array([[1.1127127 ],\n",
      "       [0.12910728]], dtype=float32), array([[0.41126645]], dtype=float32)]\n",
      "season        1997.045455\n",
      "team_1        5546.025568\n",
      "team_2        5546.025568\n",
      "home             0.000000\n",
      "seed_diff        0.000000\n",
      "score_diff       0.000000\n",
      "score_1         71.912247\n",
      "score_2         71.912247\n",
      "won              0.500000\n",
      "pred             0.229734\n",
      "dtype: float64\n",
      "0.5349429451582145\n",
      "0.8021838885585818\n",
      "1066/1066 [==============================] - 0s 128us/step\n"
     ]
    },
    {
     "data": {
      "text/plain": [
       "[9.885717241670132, 9.083277056409539, 0.8024402000219693]"
      ]
     },
     "execution_count": 48,
     "metadata": {},
     "output_type": "execute_result"
    }
   ],
   "source": [
    "# Create an input layer with 2 columns\n",
    "input_tensor = Input((2,))\n",
    "\n",
    "# Create the first output\n",
    "output_tensor_1 = Dense(1, activation='linear', use_bias=False)(input_tensor)\n",
    "\n",
    "# Create the second output (use the first output as input here)\n",
    "output_tensor_2 = Dense(1, activation='sigmoid', use_bias=False)(output_tensor_1)\n",
    "\n",
    "# Create a model with 2 outputs\n",
    "model = Model(input_tensor, [output_tensor_1, output_tensor_2])\n",
    "\n",
    "# Import the Adam optimizer\n",
    "from keras.optimizers import Adam\n",
    "\n",
    "# Compile the model with 2 losses and the Adam optimzer with a higher learning rate\n",
    "model.compile(loss=['mean_absolute_error', 'binary_crossentropy'], optimizer=Adam(lr=0.01))\n",
    "\n",
    "# Fit the model to the tournament training data, with 2 inputs and 2 outputs\n",
    "model.fit(X_train[['seed_diff', 'pred']],\n",
    "          [X_train[['score_diff']], X_train[['won']]],\n",
    "          epochs=10,\n",
    "          verbose=True,\n",
    "          batch_size=16384)\n",
    "\n",
    "# Print the model weights\n",
    "print(model.get_weights())\n",
    "\n",
    "# Print the training data means\n",
    "print(X_train.mean())\n",
    "\n",
    "# Import the sigmoid function from scipy\n",
    "from scipy.special import expit as sigmoid\n",
    "\n",
    "# Weight from the model\n",
    "weight = 0.14\n",
    "\n",
    "# Print the approximate win probability of a predicted close game\n",
    "print(sigmoid(1 * weight))\n",
    "\n",
    "# Print the approximate win probability of a predicted blowout game\n",
    "print(sigmoid(10 * weight))\n",
    "\n",
    "\n",
    "# Evaluate the model on new data\n",
    "model.evaluate(y_test[['seed_diff', 'pred']],\n",
    "               [y_test[['score_diff']], y_test[['won']]])"
   ]
  },
  {
   "cell_type": "code",
   "execution_count": null,
   "metadata": {},
   "outputs": [],
   "source": []
  },
  {
   "cell_type": "code",
   "execution_count": null,
   "metadata": {},
   "outputs": [],
   "source": []
  },
  {
   "cell_type": "code",
   "execution_count": null,
   "metadata": {},
   "outputs": [],
   "source": []
  },
  {
   "cell_type": "code",
   "execution_count": null,
   "metadata": {},
   "outputs": [],
   "source": []
  }
 ],
 "metadata": {
  "kernelspec": {
   "display_name": "Python 3",
   "language": "python",
   "name": "python3"
  },
  "language_info": {
   "codemirror_mode": {
    "name": "ipython",
    "version": 3
   },
   "file_extension": ".py",
   "mimetype": "text/x-python",
   "name": "python",
   "nbconvert_exporter": "python",
   "pygments_lexer": "ipython3",
   "version": "3.6.4"
  },
  "toc": {
   "base_numbering": 1,
   "nav_menu": {},
   "number_sections": true,
   "sideBar": true,
   "skip_h1_title": false,
   "title_cell": "Table of Contents",
   "title_sidebar": "Contents",
   "toc_cell": true,
   "toc_position": {},
   "toc_section_display": true,
   "toc_window_display": false
  }
 },
 "nbformat": 4,
 "nbformat_minor": 2
}
