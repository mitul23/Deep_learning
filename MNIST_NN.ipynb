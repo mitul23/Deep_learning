{
 "cells": [
  {
   "cell_type": "code",
   "execution_count": 1,
   "metadata": {},
   "outputs": [],
   "source": [
    "# simple neural network to classify handwritten digits \n",
    "# what do we know so far: we have to classify grayscale images on handwritten digits of size (28, 28)pixels into 10 categories (i.e 0 through 9).\n",
    "#Use MNIST dataset - it has 60,000 training images, 10,000 test images put together by National Institute of Standards and Tech 1980s\n"
   ]
  },
  {
   "cell_type": "markdown",
   "metadata": {},
   "source": [
    "# Import necessary libraries"
   ]
  },
  {
   "cell_type": "code",
   "execution_count": 1,
   "metadata": {},
   "outputs": [
    {
     "name": "stderr",
     "output_type": "stream",
     "text": [
      "/Users/Mitul/anaconda3/lib/python3.6/site-packages/h5py/__init__.py:36: FutureWarning: Conversion of the second argument of issubdtype from `float` to `np.floating` is deprecated. In future, it will be treated as `np.float64 == np.dtype(float).type`.\n",
      "  from ._conv import register_converters as _register_converters\n",
      "Using TensorFlow backend.\n"
     ]
    }
   ],
   "source": [
    "# importing and loading the MNIST dataset in Keras\n",
    "from keras.datasets import mnist\n",
    "\n",
    "# here's the network architecture\n",
    "from keras.models import Sequential\n",
    "from keras.layers.core import Dense, Activation\n",
    "from keras.optimizers import SGD\n",
    "\n",
    "#import other useful lib\n",
    "import numpy as np\n",
    "import matplotlib.pyplot as plt\n",
    "%matplotlib inline\n",
    "\n",
    "# for reproducibility\n",
    "np.random.seed(1671) "
   ]
  },
  {
   "cell_type": "markdown",
   "metadata": {},
   "source": [
    "# Explore and visualize data"
   ]
  },
  {
   "cell_type": "code",
   "execution_count": 2,
   "metadata": {},
   "outputs": [
    {
     "name": "stdout",
     "output_type": "stream",
     "text": [
      "(60000, 28, 28)\n",
      "[5 0 4 ... 5 6 8]\n"
     ]
    }
   ],
   "source": [
    "(train_images, train_labels), (test_images, test_labels) = mnist.load_data() \n",
    "#train_images-used for fine-tuning our network\n",
    "#test_images used for assessing the performance\n",
    "#train_label, test_lables consists of true labels\n",
    "\n",
    "# images are read as numpy arrays and labels as an array of digits from 0-9\n",
    "#let's check out the data\n",
    "print(train_images.shape)\n",
    "print(train_labels)"
   ]
  },
  {
   "cell_type": "code",
   "execution_count": 3,
   "metadata": {},
   "outputs": [
    {
     "data": {
      "image/png": "[encoded data removed]",
      "text/plain": [
       "<matplotlib.figure.Figure at 0x18193bf828>"
      ]
     },
     "metadata": {},
     "output_type": "display_data"
    }
   ],
   "source": [
    "unique_lables = set(train_labels)\n",
    "plt.figure(figsize=(12,12))\n",
    "\n",
    "i=1\n",
    "for label in unique_lables:\n",
    "    image = train_images[train_labels.tolist().index(label)]\n",
    "    plt.subplot(10,10,i)\n",
    "    plt.axis('off')\n",
    "    i += 1\n",
    "    _ = plt.imshow(image, cmap='gray')\n",
    "plt.show()"
   ]
  },
  {
   "cell_type": "markdown",
   "metadata": {},
   "source": [
    "# Preprocess data "
   ]
  },
  {
   "cell_type": "code",
   "execution_count": 4,
   "metadata": {},
   "outputs": [
    {
     "name": "stdout",
     "output_type": "stream",
     "text": [
      "training_label:  (60000,)\n",
      "test_labels:  (10000,)\n",
      "test_image:  (10000, 28, 28)\n"
     ]
    }
   ],
   "source": [
    "print('training_label: ', train_labels.shape)\n",
    "print('test_labels: ',test_labels.shape)\n",
    "print('test_image: ', test_images.shape)"
   ]
  },
  {
   "cell_type": "code",
   "execution_count": 5,
   "metadata": {},
   "outputs": [],
   "source": [
    "#preparing the image data: Data is converted into float32 for supporting GPU computation and normalized to [0, 1] \n",
    "train_images = train_images.reshape((60000,28*28))\n",
    "train_images = train_images.astype('float32')/255\n",
    "\n",
    "test_images = test_images.reshape((10000,28*28))\n",
    "test_images = test_images.astype('float32')/255"
   ]
  },
  {
   "cell_type": "code",
   "execution_count": 6,
   "metadata": {},
   "outputs": [],
   "source": [
    "# prepare the labels: convert class vectors to binary class matrices\n",
    "from keras.utils import to_categorical\n",
    "\n",
    "train_labels = to_categorical(train_labels)\n",
    "test_labels = to_categorical(test_labels)"
   ]
  },
  {
   "cell_type": "code",
   "execution_count": 7,
   "metadata": {},
   "outputs": [],
   "source": [
    "# Usual DL workflow: \n",
    "# we have an input so feed the NN the training data -> NN learn to associate images and labels from training dataset\n",
    "# Onces the model is training, use the model to predict on the test_images and verify prediction with the test_labels"
   ]
  },
  {
   "cell_type": "markdown",
   "metadata": {},
   "source": [
    "# Build Multi-layer perceptrons"
   ]
  },
  {
   "cell_type": "code",
   "execution_count": 7,
   "metadata": {},
   "outputs": [],
   "source": [
    "model= Sequential()"
   ]
  },
  {
   "cell_type": "code",
   "execution_count": 13,
   "metadata": {},
   "outputs": [
    {
     "name": "stdout",
     "output_type": "stream",
     "text": [
      "_________________________________________________________________\n",
      "Layer (type)                 Output Shape              Param #   \n",
      "=================================================================\n",
      "dense_1 (Dense)              (None, 512)               401920    \n",
      "_________________________________________________________________\n",
      "dense_2 (Dense)              (None, 512)               262656    \n",
      "_________________________________________________________________\n",
      "dense_3 (Dense)              (None, 10)                5130      \n",
      "=================================================================\n",
      "Total params: 669,706\n",
      "Trainable params: 669,706\n",
      "Non-trainable params: 0\n",
      "_________________________________________________________________\n"
     ]
    }
   ],
   "source": [
    "model.add(Dense(512, activation='relu',input_shape=(28 * 28, )))\n",
    "model.add(Dense(512, activation='relu'))\n",
    "model.add(Dense(10, activation='softmax'))\n",
    "model.summary()\n",
    "#layer, a data-processing module that you can think of as a filter for data. Some data goes in, and it comes out in a more useful form. \n",
    "# in our network we have 2 dense layers which are densely connected (known as fully connected) neural layers\n",
    "# The second (and last) layer is a 10-way softmax layer, which means it will return an array of 10 probability scores (summing\n",
    "#to 1). Each score will be the probability that the current digit image belongs to one of our 10 digit classes."
   ]
  },
  {
   "cell_type": "markdown",
   "metadata": {},
   "source": [
    "# Compile and fit the data to the model"
   ]
  },
  {
   "cell_type": "code",
   "execution_count": 15,
   "metadata": {},
   "outputs": [],
   "source": [
    "# compilation step\n",
    "# Here we have a loss fct that measures the performance of the model on the training set, an optimizer to update weights\n",
    "# based on the data and loss fct and finaly a metric to accuracy on the test and training set\n",
    "model.compile(optimizer='rmsprop',loss='categorical_crossentropy',metrics=['accuracy'])"
   ]
  },
  {
   "cell_type": "code",
   "execution_count": 16,
   "metadata": {},
   "outputs": [
    {
     "name": "stdout",
     "output_type": "stream",
     "text": [
      "Train on 48000 samples, validate on 12000 samples\n",
      "Epoch 1/20\n",
      "48000/48000 [==============================] - 8s 174us/step - loss: 0.2469 - acc: 0.9239 - val_loss: 0.1288 - val_acc: 0.9605\n",
      "Epoch 2/20\n",
      "48000/48000 [==============================] - 7s 149us/step - loss: 0.0891 - acc: 0.9722 - val_loss: 0.0825 - val_acc: 0.9739\n",
      "Epoch 3/20\n",
      "48000/48000 [==============================] - 8s 162us/step - loss: 0.0569 - acc: 0.9827 - val_loss: 0.0866 - val_acc: 0.9759\n",
      "Epoch 4/20\n",
      "48000/48000 [==============================] - 7s 151us/step - loss: 0.0388 - acc: 0.9877 - val_loss: 0.0861 - val_acc: 0.9781\n",
      "Epoch 5/20\n",
      "48000/48000 [==============================] - 6s 135us/step - loss: 0.0299 - acc: 0.9906 - val_loss: 0.1030 - val_acc: 0.9743\n",
      "Epoch 6/20\n",
      "48000/48000 [==============================] - 7s 139us/step - loss: 0.0228 - acc: 0.9926 - val_loss: 0.1008 - val_acc: 0.9789\n",
      "Epoch 7/20\n",
      "48000/48000 [==============================] - 7s 139us/step - loss: 0.0175 - acc: 0.9939 - val_loss: 0.1118 - val_acc: 0.9769\n",
      "Epoch 8/20\n",
      "48000/48000 [==============================] - 7s 145us/step - loss: 0.0162 - acc: 0.9951 - val_loss: 0.1160 - val_acc: 0.9764\n",
      "Epoch 9/20\n",
      "48000/48000 [==============================] - 6s 135us/step - loss: 0.0117 - acc: 0.9961 - val_loss: 0.1097 - val_acc: 0.9782\n",
      "Epoch 10/20\n",
      "48000/48000 [==============================] - 6s 134us/step - loss: 0.0104 - acc: 0.9968 - val_loss: 0.1296 - val_acc: 0.9788\n",
      "Epoch 11/20\n",
      "48000/48000 [==============================] - 7s 139us/step - loss: 0.0083 - acc: 0.9975 - val_loss: 0.1257 - val_acc: 0.9801\n",
      "Epoch 12/20\n",
      "48000/48000 [==============================] - 6s 132us/step - loss: 0.0086 - acc: 0.9971 - val_loss: 0.1550 - val_acc: 0.9790\n",
      "Epoch 13/20\n",
      "48000/48000 [==============================] - 7s 140us/step - loss: 0.0072 - acc: 0.9976 - val_loss: 0.1409 - val_acc: 0.9801\n",
      "Epoch 14/20\n",
      "48000/48000 [==============================] - 7s 149us/step - loss: 0.0069 - acc: 0.9978 - val_loss: 0.1420 - val_acc: 0.9792\n",
      "Epoch 15/20\n",
      "48000/48000 [==============================] - 7s 151us/step - loss: 0.0067 - acc: 0.9979 - val_loss: 0.1549 - val_acc: 0.9783\n",
      "Epoch 16/20\n",
      "48000/48000 [==============================] - 7s 148us/step - loss: 0.0051 - acc: 0.9983 - val_loss: 0.1422 - val_acc: 0.9814\n",
      "Epoch 17/20\n",
      "48000/48000 [==============================] - 8s 168us/step - loss: 0.0055 - acc: 0.9985 - val_loss: 0.1640 - val_acc: 0.9800\n",
      "Epoch 18/20\n",
      "48000/48000 [==============================] - 8s 162us/step - loss: 0.0038 - acc: 0.9989 - val_loss: 0.2062 - val_acc: 0.9739\n",
      "Epoch 19/20\n",
      "48000/48000 [==============================] - 7s 144us/step - loss: 0.0056 - acc: 0.9983 - val_loss: 0.1521 - val_acc: 0.9809\n",
      "Epoch 20/20\n",
      "48000/48000 [==============================] - 7s 139us/step - loss: 0.0057 - acc: 0.9987 - val_loss: 0.1804 - val_acc: 0.9793\n"
     ]
    }
   ],
   "source": [
    "### train network\n",
    "history = model.fit(train_images,train_labels,epochs=20,batch_size=128,validation_split=0.2)"
   ]
  },
  {
   "cell_type": "markdown",
   "metadata": {},
   "source": [
    "# Prediction and validate the model"
   ]
  },
  {
   "cell_type": "code",
   "execution_count": 17,
   "metadata": {},
   "outputs": [
    {
     "name": "stdout",
     "output_type": "stream",
     "text": [
      "10000/10000 [==============================] - 1s 93us/step\n",
      "\n",
      "test_acc:  0.9805\n",
      "test_loss:  0.1451119137159366\n"
     ]
    }
   ],
   "source": [
    "# we have 99.9% accuracy over the training data, 99% over validation data \n",
    "# lets check the model performance on the test set\n",
    "test_loss, test_acc = model.evaluate(test_images,test_labels) #This is used to compute the loss values\n",
    "print('\\ntest_acc: ',test_acc)\n",
    "print('test_loss: ',test_loss)"
   ]
  },
  {
   "cell_type": "code",
   "execution_count": 12,
   "metadata": {},
   "outputs": [],
   "source": [
    "# test_acc of 98% which is lower than the train_acc -> overfitting\n",
    "#network trained on 48,000 samples, \n",
    "#12,000 are reserved for validation. Once the neural model is built, it is then tested on 10,000 samples"
   ]
  },
  {
   "cell_type": "code",
   "execution_count": 18,
   "metadata": {},
   "outputs": [
    {
     "name": "stdout",
     "output_type": "stream",
     "text": [
      "dict_keys(['val_loss', 'val_acc', 'loss', 'acc'])\n"
     ]
    },
    {
     "data": {
      "image/png": "[encoded data removed]",
      "text/plain": [
       "<matplotlib.figure.Figure at 0x1833316c18>"
      ]
     },
     "metadata": {},
     "output_type": "display_data"
    },
    {
     "data": {
      "image/png": "[encoded data removed]",
      "text/plain": [
       "<matplotlib.figure.Figure at 0x1833323e10>"
      ]
     },
     "metadata": {},
     "output_type": "display_data"
    }
   ],
   "source": [
    "# list all data in history\n",
    "print(history.history.keys())\n",
    "# summarize history for accuracy\n",
    "plt.plot(history.history['acc'])\n",
    "plt.plot(history.history['val_acc'])\n",
    "plt.title('model accuracy')\n",
    "plt.ylabel('accuracy')\n",
    "plt.xlabel('epoch')\n",
    "plt.legend(['train', 'test'], loc='upper left')\n",
    "plt.show()\n",
    "# summarize history for loss\n",
    "plt.plot(history.history['loss'])\n",
    "plt.plot(history.history['val_loss'])\n",
    "plt.title('model loss')\n",
    "plt.ylabel('loss')\n",
    "plt.xlabel('epoch')\n",
    "plt.legend(['train', 'test'], loc='upper left')\n",
    "plt.show()"
   ]
  },
  {
   "cell_type": "code",
   "execution_count": null,
   "metadata": {},
   "outputs": [],
   "source": []
  }
 ],
 "metadata": {
  "kernelspec": {
   "display_name": "Python 3",
   "language": "python",
   "name": "python3"
  },
  "language_info": {
   "codemirror_mode": {
    "name": "ipython",
    "version": 3
   },
   "file_extension": ".py",
   "mimetype": "text/x-python",
   "name": "python",
   "nbconvert_exporter": "python",
   "pygments_lexer": "ipython3",
   "version": "3.6.4"
  }
 },
 "nbformat": 4,
 "nbformat_minor": 2
}
